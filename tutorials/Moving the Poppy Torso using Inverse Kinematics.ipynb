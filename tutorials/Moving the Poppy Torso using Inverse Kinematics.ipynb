{
 "cells": [
  {
   "cell_type": "markdown",
   "metadata": {},
   "source": [
    "# Moving the Poppy Torso using Inverse Kinematics #"
   ]
  },
  {
   "cell_type": "markdown",
   "metadata": {},
   "source": [
    "![Banner](assets/banner.png)"
   ]
  },
  {
   "cell_type": "markdown",
   "metadata": {
    "hide_input": true
   },
   "source": [
    "This notebook illustrates how you can use the kinematic chains defined by the PoppyTorso class to directly control the arms of the robot in the cartesian space.\n",
    "\n",
    "Said in a simpler way, this means that we will see how you can:\n",
    "* **get the end effector position from the joint angles of the motors (forward kinematic)**\n",
    "* **compute the joint angles needed to reach a specific cartesian point: i.e. a 3D position (inverse kinematic)**"
   ]
  },
  {
   "cell_type": "markdown",
   "metadata": {},
   "source": [
    "This is a particularly useful and efficient technique, for instance if you want to grab an object in a specific position."
   ]
  },
  {
   "cell_type": "markdown",
   "metadata": {},
   "source": [
    "The Torso robots defines two kinematic chains, one for each arm. They are in the same coordinates system. The origin of both chain is the first link of the robot: the base. They are composed of 7 joints. For the left chain:\n",
    "* abs_z\n",
    "* bust_y\n",
    "* bust_x\n",
    "* **l_shoulder_y**\n",
    "* **l_shoulder_x**\n",
    "* **l_arm_z**\n",
    "* **l_elbow_y**\n",
    "\n",
    "The 3 first joints are passive, they are part of the chain (this allows two share the same origin for both chains) but are not effectively used, they will not be moved."
   ]
  },
  {
   "cell_type": "markdown",
   "metadata": {},
   "source": [
    "The figure below shows you a plot of both kinematics chains of the Torso (in the zero position):\n",
    "\n",
    "![IK chains of the Torso](./assets/IK-Torso.png)"
   ]
  },
  {
   "cell_type": "markdown",
   "metadata": {},
   "source": [
    "All examples below are given using V-REP as it is safer when playing with your robot. You do not risk to break anything, in the worst case all you need to do is reset the simulation :-) All the examples below can be directly switched to a real robot."
   ]
  },
  {
   "cell_type": "markdown",
   "metadata": {},
   "source": [
    "## Simple example using a real robot"
   ]
  },
  {
   "cell_type": "markdown",
   "metadata": {},
   "source": [
    "First load you robot with the usual code:"
   ]
  },
  {
   "cell_type": "code",
   "execution_count": 1,
   "metadata": {
    "collapsed": false,
    "jupyter": {
     "outputs_hidden": false
    }
   },
   "outputs": [],
   "source": [
    "from poppy.creatures import PoppyTorso\n",
    "\n",
    "poppy = PoppyTorso(simulator=\"vrep\")"
   ]
  },
  {
   "cell_type": "markdown",
   "metadata": {},
   "source": [
    "Then, you can directly access the chains:"
   ]
  },
  {
   "cell_type": "code",
   "execution_count": 2,
   "metadata": {
    "collapsed": false,
    "jupyter": {
     "outputs_hidden": false
    }
   },
   "outputs": [
    {
     "name": "stdout",
     "output_type": "stream",
     "text": [
      "[Kinematic chain name=l_arm_chain, Kinematic chain name=r_arm_chain]\n",
      "Kinematic chain name=l_arm_chain\n",
      "Kinematic chain name=r_arm_chain\n"
     ]
    }
   ],
   "source": [
    "print(poppy.kinematic_chains)\n",
    "print(poppy.l_arm_chain)\n",
    "print(poppy.r_arm_chain)"
   ]
  },
  {
   "cell_type": "markdown",
   "metadata": {},
   "source": [
    "And their respective motors:"
   ]
  },
  {
   "cell_type": "code",
   "execution_count": 3,
   "metadata": {
    "collapsed": false,
    "jupyter": {
     "outputs_hidden": false
    }
   },
   "outputs": [
    {
     "data": {
      "text/plain": [
       "[u'abs_z',\n",
       " u'bust_y',\n",
       " u'bust_x',\n",
       " u'l_shoulder_y',\n",
       " u'l_shoulder_x',\n",
       " u'l_arm_z',\n",
       " u'l_elbow_y']"
      ]
     },
     "execution_count": 3,
     "metadata": {},
     "output_type": "execute_result"
    }
   ],
   "source": [
    "[m.name for m in poppy.l_arm_chain.motors]"
   ]
  },
  {
   "cell_type": "markdown",
   "metadata": {},
   "source": [
    "# Forward kinematics"
   ]
  },
  {
   "cell_type": "markdown",
   "metadata": {},
   "source": [
    "You can directly retrieve the current cartesian position of the end effector of a chain. For instance, assuming your robot is still in the rest positions:"
   ]
  },
  {
   "cell_type": "code",
   "execution_count": 4,
   "metadata": {
    "collapsed": false,
    "jupyter": {
     "outputs_hidden": false
    }
   },
   "outputs": [
    {
     "data": {
      "text/plain": [
       "array([ 0.10998704, -0.1726318 ,  0.06704501])"
      ]
     },
     "execution_count": 4,
     "metadata": {},
     "output_type": "execute_result"
    }
   ],
   "source": [
    "poppy.l_arm_chain.end_effector"
   ]
  },
  {
   "cell_type": "markdown",
   "metadata": {},
   "source": [
    "This means that the end of the left arm is 0.10 meters on the right of the base of the robot, 0.17 meters in front and 0.07 meters up. "
   ]
  },
  {
   "cell_type": "markdown",
   "metadata": {},
   "source": [
    "The end effector position is **computed** from the joints position and the kinematic model of the robot. It is thus a theoretical position, which may differs from the real position due to the model imperfections."
   ]
  },
  {
   "cell_type": "markdown",
   "metadata": {},
   "source": [
    "The joints position of a chain can also be directly retrieved (the values are expressed in degrees):"
   ]
  },
  {
   "cell_type": "code",
   "execution_count": 5,
   "metadata": {
    "collapsed": false,
    "jupyter": {
     "outputs_hidden": false
    }
   },
   "outputs": [
    {
     "data": {
      "text/plain": [
       "[0.0,\n",
       " 0.0,\n",
       " 0.0,\n",
       " 1.2000000000000028,\n",
       " 0.4000000000000057,\n",
       " 0.0,\n",
       " 0.09999999999999432]"
      ]
     },
     "execution_count": 5,
     "metadata": {},
     "output_type": "execute_result"
    }
   ],
   "source": [
    "poppy.l_arm_chain.joints_position"
   ]
  },
  {
   "cell_type": "markdown",
   "metadata": {},
   "source": [
    "### Plotting\n",
    "Thanks to the [IKPy](https://github.com/Phylliade/ikpy) library, you can also directly plot a kinematic chain configuration using matplotlib.\n",
    "For instance, you can plot the current position of your robot :"
   ]
  },
  {
   "cell_type": "code",
   "execution_count": 5,
   "metadata": {
    "collapsed": false,
    "jupyter": {
     "outputs_hidden": false
    }
   },
   "outputs": [
    {
     "data": {
      "application/javascript": [
       "/* Put everything inside the global mpl namespace */\n",
       "window.mpl = {};\n",
       "\n",
       "mpl.get_websocket_type = function() {\n",
       "    if (typeof(WebSocket) !== 'undefined') {\n",
       "        return WebSocket;\n",
       "    } else if (typeof(MozWebSocket) !== 'undefined') {\n",
       "        return MozWebSocket;\n",
       "    } else {\n",
       "        alert('Your browser does not have WebSocket support.' +\n",
       "              'Please try Chrome, Safari or Firefox ≥ 6. ' +\n",
       "              'Firefox 4 and 5 are also supported but you ' +\n",
       "              'have to enable WebSockets in about:config.');\n",
       "    };\n",
       "}\n",
       "\n",
       "mpl.figure = function(figure_id, websocket, ondownload, parent_element) {\n",
       "    this.id = figure_id;\n",
       "\n",
       "    this.ws = websocket;\n",
       "\n",
       "    this.supports_binary = (this.ws.binaryType != undefined);\n",
       "\n",
       "    if (!this.supports_binary) {\n",
       "        var warnings = document.getElementById(\"mpl-warnings\");\n",
       "        if (warnings) {\n",
       "            warnings.style.display = 'block';\n",
       "            warnings.textContent = (\n",
       "                \"This browser does not support binary websocket messages. \" +\n",
       "                    \"Performance may be slow.\");\n",
       "        }\n",
       "    }\n",
       "\n",
       "    this.imageObj = new Image();\n",
       "\n",
       "    this.context = undefined;\n",
       "    this.message = undefined;\n",
       "    this.canvas = undefined;\n",
       "    this.rubberband_canvas = undefined;\n",
       "    this.rubberband_context = undefined;\n",
       "    this.format_dropdown = undefined;\n",
       "\n",
       "    this.image_mode = 'full';\n",
       "\n",
       "    this.root = $('<div/>');\n",
       "    this._root_extra_style(this.root)\n",
       "    this.root.attr('style', 'display: inline-block');\n",
       "\n",
       "    $(parent_element).append(this.root);\n",
       "\n",
       "    this._init_header(this);\n",
       "    this._init_canvas(this);\n",
       "    this._init_toolbar(this);\n",
       "\n",
       "    var fig = this;\n",
       "\n",
       "    this.waiting = false;\n",
       "\n",
       "    this.ws.onopen =  function () {\n",
       "            fig.send_message(\"supports_binary\", {value: fig.supports_binary});\n",
       "            fig.send_message(\"send_image_mode\", {});\n",
       "            fig.send_message(\"refresh\", {});\n",
       "        }\n",
       "\n",
       "    this.imageObj.onload = function() {\n",
       "            if (fig.image_mode == 'full') {\n",
       "                // Full images could contain transparency (where diff images\n",
       "                // almost always do), so we need to clear the canvas so that\n",
       "                // there is no ghosting.\n",
       "                fig.context.clearRect(0, 0, fig.canvas.width, fig.canvas.height);\n",
       "            }\n",
       "            fig.context.drawImage(fig.imageObj, 0, 0);\n",
       "        };\n",
       "\n",
       "    this.imageObj.onunload = function() {\n",
       "        this.ws.close();\n",
       "    }\n",
       "\n",
       "    this.ws.onmessage = this._make_on_message_function(this);\n",
       "\n",
       "    this.ondownload = ondownload;\n",
       "}\n",
       "\n",
       "mpl.figure.prototype._init_header = function() {\n",
       "    var titlebar = $(\n",
       "        '<div class=\"ui-dialog-titlebar ui-widget-header ui-corner-all ' +\n",
       "        'ui-helper-clearfix\"/>');\n",
       "    var titletext = $(\n",
       "        '<div class=\"ui-dialog-title\" style=\"width: 100%; ' +\n",
       "        'text-align: center; padding: 3px;\"/>');\n",
       "    titlebar.append(titletext)\n",
       "    this.root.append(titlebar);\n",
       "    this.header = titletext[0];\n",
       "}\n",
       "\n",
       "\n",
       "\n",
       "mpl.figure.prototype._canvas_extra_style = function(canvas_div) {\n",
       "\n",
       "}\n",
       "\n",
       "\n",
       "mpl.figure.prototype._root_extra_style = function(canvas_div) {\n",
       "\n",
       "}\n",
       "\n",
       "mpl.figure.prototype._init_canvas = function() {\n",
       "    var fig = this;\n",
       "\n",
       "    var canvas_div = $('<div/>');\n",
       "\n",
       "    canvas_div.attr('style', 'position: relative; clear: both; outline: 0');\n",
       "\n",
       "    function canvas_keyboard_event(event) {\n",
       "        return fig.key_event(event, event['data']);\n",
       "    }\n",
       "\n",
       "    canvas_div.keydown('key_press', canvas_keyboard_event);\n",
       "    canvas_div.keyup('key_release', canvas_keyboard_event);\n",
       "    this.canvas_div = canvas_div\n",
       "    this._canvas_extra_style(canvas_div)\n",
       "    this.root.append(canvas_div);\n",
       "\n",
       "    var canvas = $('<canvas/>');\n",
       "    canvas.addClass('mpl-canvas');\n",
       "    canvas.attr('style', \"left: 0; top: 0; z-index: 0; outline: 0\")\n",
       "\n",
       "    this.canvas = canvas[0];\n",
       "    this.context = canvas[0].getContext(\"2d\");\n",
       "\n",
       "    var rubberband = $('<canvas/>');\n",
       "    rubberband.attr('style', \"position: absolute; left: 0; top: 0; z-index: 1;\")\n",
       "\n",
       "    var pass_mouse_events = true;\n",
       "\n",
       "    canvas_div.resizable({\n",
       "        start: function(event, ui) {\n",
       "            pass_mouse_events = false;\n",
       "        },\n",
       "        resize: function(event, ui) {\n",
       "            fig.request_resize(ui.size.width, ui.size.height);\n",
       "        },\n",
       "        stop: function(event, ui) {\n",
       "            pass_mouse_events = true;\n",
       "            fig.request_resize(ui.size.width, ui.size.height);\n",
       "        },\n",
       "    });\n",
       "\n",
       "    function mouse_event_fn(event) {\n",
       "        if (pass_mouse_events)\n",
       "            return fig.mouse_event(event, event['data']);\n",
       "    }\n",
       "\n",
       "    rubberband.mousedown('button_press', mouse_event_fn);\n",
       "    rubberband.mouseup('button_release', mouse_event_fn);\n",
       "    // Throttle sequential mouse events to 1 every 20ms.\n",
       "    rubberband.mousemove('motion_notify', mouse_event_fn);\n",
       "\n",
       "    rubberband.mouseenter('figure_enter', mouse_event_fn);\n",
       "    rubberband.mouseleave('figure_leave', mouse_event_fn);\n",
       "\n",
       "    canvas_div.on(\"wheel\", function (event) {\n",
       "        event = event.originalEvent;\n",
       "        event['data'] = 'scroll'\n",
       "        if (event.deltaY < 0) {\n",
       "            event.step = 1;\n",
       "        } else {\n",
       "            event.step = -1;\n",
       "        }\n",
       "        mouse_event_fn(event);\n",
       "    });\n",
       "\n",
       "    canvas_div.append(canvas);\n",
       "    canvas_div.append(rubberband);\n",
       "\n",
       "    this.rubberband = rubberband;\n",
       "    this.rubberband_canvas = rubberband[0];\n",
       "    this.rubberband_context = rubberband[0].getContext(\"2d\");\n",
       "    this.rubberband_context.strokeStyle = \"#000000\";\n",
       "\n",
       "    this._resize_canvas = function(width, height) {\n",
       "        // Keep the size of the canvas, canvas container, and rubber band\n",
       "        // canvas in synch.\n",
       "        canvas_div.css('width', width)\n",
       "        canvas_div.css('height', height)\n",
       "\n",
       "        canvas.attr('width', width);\n",
       "        canvas.attr('height', height);\n",
       "\n",
       "        rubberband.attr('width', width);\n",
       "        rubberband.attr('height', height);\n",
       "    }\n",
       "\n",
       "    // Set the figure to an initial 600x600px, this will subsequently be updated\n",
       "    // upon first draw.\n",
       "    this._resize_canvas(600, 600);\n",
       "\n",
       "    // Disable right mouse context menu.\n",
       "    $(this.rubberband_canvas).bind(\"contextmenu\",function(e){\n",
       "        return false;\n",
       "    });\n",
       "\n",
       "    function set_focus () {\n",
       "        canvas.focus();\n",
       "        canvas_div.focus();\n",
       "    }\n",
       "\n",
       "    window.setTimeout(set_focus, 100);\n",
       "}\n",
       "\n",
       "mpl.figure.prototype._init_toolbar = function() {\n",
       "    var fig = this;\n",
       "\n",
       "    var nav_element = $('<div/>')\n",
       "    nav_element.attr('style', 'width: 100%');\n",
       "    this.root.append(nav_element);\n",
       "\n",
       "    // Define a callback function for later on.\n",
       "    function toolbar_event(event) {\n",
       "        return fig.toolbar_button_onclick(event['data']);\n",
       "    }\n",
       "    function toolbar_mouse_event(event) {\n",
       "        return fig.toolbar_button_onmouseover(event['data']);\n",
       "    }\n",
       "\n",
       "    for(var toolbar_ind in mpl.toolbar_items) {\n",
       "        var name = mpl.toolbar_items[toolbar_ind][0];\n",
       "        var tooltip = mpl.toolbar_items[toolbar_ind][1];\n",
       "        var image = mpl.toolbar_items[toolbar_ind][2];\n",
       "        var method_name = mpl.toolbar_items[toolbar_ind][3];\n",
       "\n",
       "        if (!name) {\n",
       "            // put a spacer in here.\n",
       "            continue;\n",
       "        }\n",
       "        var button = $('<button/>');\n",
       "        button.addClass('ui-button ui-widget ui-state-default ui-corner-all ' +\n",
       "                        'ui-button-icon-only');\n",
       "        button.attr('role', 'button');\n",
       "        button.attr('aria-disabled', 'false');\n",
       "        button.click(method_name, toolbar_event);\n",
       "        button.mouseover(tooltip, toolbar_mouse_event);\n",
       "\n",
       "        var icon_img = $('<span/>');\n",
       "        icon_img.addClass('ui-button-icon-primary ui-icon');\n",
       "        icon_img.addClass(image);\n",
       "        icon_img.addClass('ui-corner-all');\n",
       "\n",
       "        var tooltip_span = $('<span/>');\n",
       "        tooltip_span.addClass('ui-button-text');\n",
       "        tooltip_span.html(tooltip);\n",
       "\n",
       "        button.append(icon_img);\n",
       "        button.append(tooltip_span);\n",
       "\n",
       "        nav_element.append(button);\n",
       "    }\n",
       "\n",
       "    var fmt_picker_span = $('<span/>');\n",
       "\n",
       "    var fmt_picker = $('<select/>');\n",
       "    fmt_picker.addClass('mpl-toolbar-option ui-widget ui-widget-content');\n",
       "    fmt_picker_span.append(fmt_picker);\n",
       "    nav_element.append(fmt_picker_span);\n",
       "    this.format_dropdown = fmt_picker[0];\n",
       "\n",
       "    for (var ind in mpl.extensions) {\n",
       "        var fmt = mpl.extensions[ind];\n",
       "        var option = $(\n",
       "            '<option/>', {selected: fmt === mpl.default_extension}).html(fmt);\n",
       "        fmt_picker.append(option)\n",
       "    }\n",
       "\n",
       "    // Add hover states to the ui-buttons\n",
       "    $( \".ui-button\" ).hover(\n",
       "        function() { $(this).addClass(\"ui-state-hover\");},\n",
       "        function() { $(this).removeClass(\"ui-state-hover\");}\n",
       "    );\n",
       "\n",
       "    var status_bar = $('<span class=\"mpl-message\"/>');\n",
       "    nav_element.append(status_bar);\n",
       "    this.message = status_bar[0];\n",
       "}\n",
       "\n",
       "mpl.figure.prototype.request_resize = function(x_pixels, y_pixels) {\n",
       "    // Request matplotlib to resize the figure. Matplotlib will then trigger a resize in the client,\n",
       "    // which will in turn request a refresh of the image.\n",
       "    this.send_message('resize', {'width': x_pixels, 'height': y_pixels});\n",
       "}\n",
       "\n",
       "mpl.figure.prototype.send_message = function(type, properties) {\n",
       "    properties['type'] = type;\n",
       "    properties['figure_id'] = this.id;\n",
       "    this.ws.send(JSON.stringify(properties));\n",
       "}\n",
       "\n",
       "mpl.figure.prototype.send_draw_message = function() {\n",
       "    if (!this.waiting) {\n",
       "        this.waiting = true;\n",
       "        this.ws.send(JSON.stringify({type: \"draw\", figure_id: this.id}));\n",
       "    }\n",
       "}\n",
       "\n",
       "\n",
       "mpl.figure.prototype.handle_save = function(fig, msg) {\n",
       "    var format_dropdown = fig.format_dropdown;\n",
       "    var format = format_dropdown.options[format_dropdown.selectedIndex].value;\n",
       "    fig.ondownload(fig, format);\n",
       "}\n",
       "\n",
       "\n",
       "mpl.figure.prototype.handle_resize = function(fig, msg) {\n",
       "    var size = msg['size'];\n",
       "    if (size[0] != fig.canvas.width || size[1] != fig.canvas.height) {\n",
       "        fig._resize_canvas(size[0], size[1]);\n",
       "        fig.send_message(\"refresh\", {});\n",
       "    };\n",
       "}\n",
       "\n",
       "mpl.figure.prototype.handle_rubberband = function(fig, msg) {\n",
       "    var x0 = msg['x0'];\n",
       "    var y0 = fig.canvas.height - msg['y0'];\n",
       "    var x1 = msg['x1'];\n",
       "    var y1 = fig.canvas.height - msg['y1'];\n",
       "    x0 = Math.floor(x0) + 0.5;\n",
       "    y0 = Math.floor(y0) + 0.5;\n",
       "    x1 = Math.floor(x1) + 0.5;\n",
       "    y1 = Math.floor(y1) + 0.5;\n",
       "    var min_x = Math.min(x0, x1);\n",
       "    var min_y = Math.min(y0, y1);\n",
       "    var width = Math.abs(x1 - x0);\n",
       "    var height = Math.abs(y1 - y0);\n",
       "\n",
       "    fig.rubberband_context.clearRect(\n",
       "        0, 0, fig.canvas.width, fig.canvas.height);\n",
       "\n",
       "    fig.rubberband_context.strokeRect(min_x, min_y, width, height);\n",
       "}\n",
       "\n",
       "mpl.figure.prototype.handle_figure_label = function(fig, msg) {\n",
       "    // Updates the figure title.\n",
       "    fig.header.textContent = msg['label'];\n",
       "}\n",
       "\n",
       "mpl.figure.prototype.handle_cursor = function(fig, msg) {\n",
       "    var cursor = msg['cursor'];\n",
       "    switch(cursor)\n",
       "    {\n",
       "    case 0:\n",
       "        cursor = 'pointer';\n",
       "        break;\n",
       "    case 1:\n",
       "        cursor = 'default';\n",
       "        break;\n",
       "    case 2:\n",
       "        cursor = 'crosshair';\n",
       "        break;\n",
       "    case 3:\n",
       "        cursor = 'move';\n",
       "        break;\n",
       "    }\n",
       "    fig.rubberband_canvas.style.cursor = cursor;\n",
       "}\n",
       "\n",
       "mpl.figure.prototype.handle_message = function(fig, msg) {\n",
       "    fig.message.textContent = msg['message'];\n",
       "}\n",
       "\n",
       "mpl.figure.prototype.handle_draw = function(fig, msg) {\n",
       "    // Request the server to send over a new figure.\n",
       "    fig.send_draw_message();\n",
       "}\n",
       "\n",
       "mpl.figure.prototype.handle_image_mode = function(fig, msg) {\n",
       "    fig.image_mode = msg['mode'];\n",
       "}\n",
       "\n",
       "mpl.figure.prototype.updated_canvas_event = function() {\n",
       "    // Called whenever the canvas gets updated.\n",
       "    this.send_message(\"ack\", {});\n",
       "}\n",
       "\n",
       "// A function to construct a web socket function for onmessage handling.\n",
       "// Called in the figure constructor.\n",
       "mpl.figure.prototype._make_on_message_function = function(fig) {\n",
       "    return function socket_on_message(evt) {\n",
       "        if (evt.data instanceof Blob) {\n",
       "            /* FIXME: We get \"Resource interpreted as Image but\n",
       "             * transferred with MIME type text/plain:\" errors on\n",
       "             * Chrome.  But how to set the MIME type?  It doesn't seem\n",
       "             * to be part of the websocket stream */\n",
       "            evt.data.type = \"image/png\";\n",
       "\n",
       "            /* Free the memory for the previous frames */\n",
       "            if (fig.imageObj.src) {\n",
       "                (window.URL || window.webkitURL).revokeObjectURL(\n",
       "                    fig.imageObj.src);\n",
       "            }\n",
       "\n",
       "            fig.imageObj.src = (window.URL || window.webkitURL).createObjectURL(\n",
       "                evt.data);\n",
       "            fig.updated_canvas_event();\n",
       "            fig.waiting = false;\n",
       "            return;\n",
       "        }\n",
       "        else if (typeof evt.data === 'string' && evt.data.slice(0, 21) == \"data:image/png;base64\") {\n",
       "            fig.imageObj.src = evt.data;\n",
       "            fig.updated_canvas_event();\n",
       "            fig.waiting = false;\n",
       "            return;\n",
       "        }\n",
       "\n",
       "        var msg = JSON.parse(evt.data);\n",
       "        var msg_type = msg['type'];\n",
       "\n",
       "        // Call the  \"handle_{type}\" callback, which takes\n",
       "        // the figure and JSON message as its only arguments.\n",
       "        try {\n",
       "            var callback = fig[\"handle_\" + msg_type];\n",
       "        } catch (e) {\n",
       "            console.log(\"No handler for the '\" + msg_type + \"' message type: \", msg);\n",
       "            return;\n",
       "        }\n",
       "\n",
       "        if (callback) {\n",
       "            try {\n",
       "                // console.log(\"Handling '\" + msg_type + \"' message: \", msg);\n",
       "                callback(fig, msg);\n",
       "            } catch (e) {\n",
       "                console.log(\"Exception inside the 'handler_\" + msg_type + \"' callback:\", e, e.stack, msg);\n",
       "            }\n",
       "        }\n",
       "    };\n",
       "}\n",
       "\n",
       "// from http://stackoverflow.com/questions/1114465/getting-mouse-location-in-canvas\n",
       "mpl.findpos = function(e) {\n",
       "    //this section is from http://www.quirksmode.org/js/events_properties.html\n",
       "    var targ;\n",
       "    if (!e)\n",
       "        e = window.event;\n",
       "    if (e.target)\n",
       "        targ = e.target;\n",
       "    else if (e.srcElement)\n",
       "        targ = e.srcElement;\n",
       "    if (targ.nodeType == 3) // defeat Safari bug\n",
       "        targ = targ.parentNode;\n",
       "\n",
       "    // jQuery normalizes the pageX and pageY\n",
       "    // pageX,Y are the mouse positions relative to the document\n",
       "    // offset() returns the position of the element relative to the document\n",
       "    var x = e.pageX - $(targ).offset().left;\n",
       "    var y = e.pageY - $(targ).offset().top;\n",
       "\n",
       "    return {\"x\": x, \"y\": y};\n",
       "};\n",
       "\n",
       "/*\n",
       " * return a copy of an object with only non-object keys\n",
       " * we need this to avoid circular references\n",
       " * http://stackoverflow.com/a/24161582/3208463\n",
       " */\n",
       "function simpleKeys (original) {\n",
       "  return Object.keys(original).reduce(function (obj, key) {\n",
       "    if (typeof original[key] !== 'object')\n",
       "        obj[key] = original[key]\n",
       "    return obj;\n",
       "  }, {});\n",
       "}\n",
       "\n",
       "mpl.figure.prototype.mouse_event = function(event, name) {\n",
       "    var canvas_pos = mpl.findpos(event)\n",
       "\n",
       "    if (name === 'button_press')\n",
       "    {\n",
       "        this.canvas.focus();\n",
       "        this.canvas_div.focus();\n",
       "    }\n",
       "\n",
       "    var x = canvas_pos.x;\n",
       "    var y = canvas_pos.y;\n",
       "\n",
       "    this.send_message(name, {x: x, y: y, button: event.button,\n",
       "                             step: event.step,\n",
       "                             guiEvent: simpleKeys(event)});\n",
       "\n",
       "    /* This prevents the web browser from automatically changing to\n",
       "     * the text insertion cursor when the button is pressed.  We want\n",
       "     * to control all of the cursor setting manually through the\n",
       "     * 'cursor' event from matplotlib */\n",
       "    event.preventDefault();\n",
       "    return false;\n",
       "}\n",
       "\n",
       "mpl.figure.prototype._key_event_extra = function(event, name) {\n",
       "    // Handle any extra behaviour associated with a key event\n",
       "}\n",
       "\n",
       "mpl.figure.prototype.key_event = function(event, name) {\n",
       "\n",
       "    // Prevent repeat events\n",
       "    if (name == 'key_press')\n",
       "    {\n",
       "        if (event.which === this._key)\n",
       "            return;\n",
       "        else\n",
       "            this._key = event.which;\n",
       "    }\n",
       "    if (name == 'key_release')\n",
       "        this._key = null;\n",
       "\n",
       "    var value = '';\n",
       "    if (event.ctrlKey && event.which != 17)\n",
       "        value += \"ctrl+\";\n",
       "    if (event.altKey && event.which != 18)\n",
       "        value += \"alt+\";\n",
       "    if (event.shiftKey && event.which != 16)\n",
       "        value += \"shift+\";\n",
       "\n",
       "    value += 'k';\n",
       "    value += event.which.toString();\n",
       "\n",
       "    this._key_event_extra(event, name);\n",
       "\n",
       "    this.send_message(name, {key: value,\n",
       "                             guiEvent: simpleKeys(event)});\n",
       "    return false;\n",
       "}\n",
       "\n",
       "mpl.figure.prototype.toolbar_button_onclick = function(name) {\n",
       "    if (name == 'download') {\n",
       "        this.handle_save(this, null);\n",
       "    } else {\n",
       "        this.send_message(\"toolbar_button\", {name: name});\n",
       "    }\n",
       "};\n",
       "\n",
       "mpl.figure.prototype.toolbar_button_onmouseover = function(tooltip) {\n",
       "    this.message.textContent = tooltip;\n",
       "};\n",
       "mpl.toolbar_items = [[\"Home\", \"Reset original view\", \"fa fa-home icon-home\", \"home\"], [\"Back\", \"Back to  previous view\", \"fa fa-arrow-left icon-arrow-left\", \"back\"], [\"Forward\", \"Forward to next view\", \"fa fa-arrow-right icon-arrow-right\", \"forward\"], [\"\", \"\", \"\", \"\"], [\"Pan\", \"Pan axes with left mouse, zoom with right\", \"fa fa-arrows icon-move\", \"pan\"], [\"Zoom\", \"Zoom to rectangle\", \"fa fa-square-o icon-check-empty\", \"zoom\"], [\"\", \"\", \"\", \"\"], [\"Download\", \"Download plot\", \"fa fa-floppy-o icon-save\", \"download\"]];\n",
       "\n",
       "mpl.extensions = [\"eps\", \"jpeg\", \"pdf\", \"png\", \"ps\", \"raw\", \"svg\", \"tif\"];\n",
       "\n",
       "mpl.default_extension = \"png\";var comm_websocket_adapter = function(comm) {\n",
       "    // Create a \"websocket\"-like object which calls the given IPython comm\n",
       "    // object with the appropriate methods. Currently this is a non binary\n",
       "    // socket, so there is still some room for performance tuning.\n",
       "    var ws = {};\n",
       "\n",
       "    ws.close = function() {\n",
       "        comm.close()\n",
       "    };\n",
       "    ws.send = function(m) {\n",
       "        //console.log('sending', m);\n",
       "        comm.send(m);\n",
       "    };\n",
       "    // Register the callback with on_msg.\n",
       "    comm.on_msg(function(msg) {\n",
       "        //console.log('receiving', msg['content']['data'], msg);\n",
       "        // Pass the mpl event to the overridden (by mpl) onmessage function.\n",
       "        ws.onmessage(msg['content']['data'])\n",
       "    });\n",
       "    return ws;\n",
       "}\n",
       "\n",
       "mpl.mpl_figure_comm = function(comm, msg) {\n",
       "    // This is the function which gets called when the mpl process\n",
       "    // starts-up an IPython Comm through the \"matplotlib\" channel.\n",
       "\n",
       "    var id = msg.content.data.id;\n",
       "    // Get hold of the div created by the display call when the Comm\n",
       "    // socket was opened in Python.\n",
       "    var element = $(\"#\" + id);\n",
       "    var ws_proxy = comm_websocket_adapter(comm)\n",
       "\n",
       "    function ondownload(figure, format) {\n",
       "        window.open(figure.imageObj.src);\n",
       "    }\n",
       "\n",
       "    var fig = new mpl.figure(id, ws_proxy,\n",
       "                           ondownload,\n",
       "                           element.get(0));\n",
       "\n",
       "    // Call onopen now - mpl needs it, as it is assuming we've passed it a real\n",
       "    // web socket which is closed, not our websocket->open comm proxy.\n",
       "    ws_proxy.onopen();\n",
       "\n",
       "    fig.parent_element = element.get(0);\n",
       "    fig.cell_info = mpl.find_output_cell(\"<div id='\" + id + \"'></div>\");\n",
       "    if (!fig.cell_info) {\n",
       "        console.error(\"Failed to find cell for figure\", id, fig);\n",
       "        return;\n",
       "    }\n",
       "\n",
       "    var output_index = fig.cell_info[2]\n",
       "    var cell = fig.cell_info[0];\n",
       "\n",
       "};\n",
       "\n",
       "mpl.figure.prototype.handle_close = function(fig, msg) {\n",
       "    fig.root.unbind('remove')\n",
       "\n",
       "    // Update the output cell to use the data from the current canvas.\n",
       "    fig.push_to_output();\n",
       "    var dataURL = fig.canvas.toDataURL();\n",
       "    // Re-enable the keyboard manager in IPython - without this line, in FF,\n",
       "    // the notebook keyboard shortcuts fail.\n",
       "    IPython.keyboard_manager.enable()\n",
       "    $(fig.parent_element).html('<img src=\"' + dataURL + '\">');\n",
       "    fig.close_ws(fig, msg);\n",
       "}\n",
       "\n",
       "mpl.figure.prototype.close_ws = function(fig, msg){\n",
       "    fig.send_message('closing', msg);\n",
       "    // fig.ws.close()\n",
       "}\n",
       "\n",
       "mpl.figure.prototype.push_to_output = function(remove_interactive) {\n",
       "    // Turn the data on the canvas into data in the output cell.\n",
       "    var dataURL = this.canvas.toDataURL();\n",
       "    this.cell_info[1]['text/html'] = '<img src=\"' + dataURL + '\">';\n",
       "}\n",
       "\n",
       "mpl.figure.prototype.updated_canvas_event = function() {\n",
       "    // Tell IPython that the notebook contents must change.\n",
       "    IPython.notebook.set_dirty(true);\n",
       "    this.send_message(\"ack\", {});\n",
       "    var fig = this;\n",
       "    // Wait a second, then push the new image to the DOM so\n",
       "    // that it is saved nicely (might be nice to debounce this).\n",
       "    setTimeout(function () { fig.push_to_output() }, 1000);\n",
       "}\n",
       "\n",
       "mpl.figure.prototype._init_toolbar = function() {\n",
       "    var fig = this;\n",
       "\n",
       "    var nav_element = $('<div/>')\n",
       "    nav_element.attr('style', 'width: 100%');\n",
       "    this.root.append(nav_element);\n",
       "\n",
       "    // Define a callback function for later on.\n",
       "    function toolbar_event(event) {\n",
       "        return fig.toolbar_button_onclick(event['data']);\n",
       "    }\n",
       "    function toolbar_mouse_event(event) {\n",
       "        return fig.toolbar_button_onmouseover(event['data']);\n",
       "    }\n",
       "\n",
       "    for(var toolbar_ind in mpl.toolbar_items){\n",
       "        var name = mpl.toolbar_items[toolbar_ind][0];\n",
       "        var tooltip = mpl.toolbar_items[toolbar_ind][1];\n",
       "        var image = mpl.toolbar_items[toolbar_ind][2];\n",
       "        var method_name = mpl.toolbar_items[toolbar_ind][3];\n",
       "\n",
       "        if (!name) { continue; };\n",
       "\n",
       "        var button = $('<button class=\"btn btn-default\" href=\"#\" title=\"' + name + '\"><i class=\"fa ' + image + ' fa-lg\"></i></button>');\n",
       "        button.click(method_name, toolbar_event);\n",
       "        button.mouseover(tooltip, toolbar_mouse_event);\n",
       "        nav_element.append(button);\n",
       "    }\n",
       "\n",
       "    // Add the status bar.\n",
       "    var status_bar = $('<span class=\"mpl-message\" style=\"text-align:right; float: right;\"/>');\n",
       "    nav_element.append(status_bar);\n",
       "    this.message = status_bar[0];\n",
       "\n",
       "    // Add the close button to the window.\n",
       "    var buttongrp = $('<div class=\"btn-group inline pull-right\"></div>');\n",
       "    var button = $('<button class=\"btn btn-mini btn-primary\" href=\"#\" title=\"Stop Interaction\"><i class=\"fa fa-power-off icon-remove icon-large\"></i></button>');\n",
       "    button.click(function (evt) { fig.handle_close(fig, {}); } );\n",
       "    button.mouseover('Stop Interaction', toolbar_mouse_event);\n",
       "    buttongrp.append(button);\n",
       "    var titlebar = this.root.find($('.ui-dialog-titlebar'));\n",
       "    titlebar.prepend(buttongrp);\n",
       "}\n",
       "\n",
       "mpl.figure.prototype._root_extra_style = function(el){\n",
       "    var fig = this\n",
       "    el.on(\"remove\", function(){\n",
       "\tfig.close_ws(fig, {});\n",
       "    });\n",
       "}\n",
       "\n",
       "mpl.figure.prototype._canvas_extra_style = function(el){\n",
       "    // this is important to make the div 'focusable\n",
       "    el.attr('tabindex', 0)\n",
       "    // reach out to IPython and tell the keyboard manager to turn it's self\n",
       "    // off when our div gets focus\n",
       "\n",
       "    // location in version 3\n",
       "    if (IPython.notebook.keyboard_manager) {\n",
       "        IPython.notebook.keyboard_manager.register_events(el);\n",
       "    }\n",
       "    else {\n",
       "        // location in version 2\n",
       "        IPython.keyboard_manager.register_events(el);\n",
       "    }\n",
       "\n",
       "}\n",
       "\n",
       "mpl.figure.prototype._key_event_extra = function(event, name) {\n",
       "    var manager = IPython.notebook.keyboard_manager;\n",
       "    if (!manager)\n",
       "        manager = IPython.keyboard_manager;\n",
       "\n",
       "    // Check for shift+enter\n",
       "    if (event.shiftKey && event.which == 13) {\n",
       "        this.canvas_div.blur();\n",
       "        event.shiftKey = false;\n",
       "        // Send a \"J\" for go to next cell\n",
       "        event.which = 74;\n",
       "        event.keyCode = 74;\n",
       "        manager.command_mode();\n",
       "        manager.handle_keydown(event);\n",
       "    }\n",
       "}\n",
       "\n",
       "mpl.figure.prototype.handle_save = function(fig, msg) {\n",
       "    fig.ondownload(fig, null);\n",
       "}\n",
       "\n",
       "\n",
       "mpl.find_output_cell = function(html_output) {\n",
       "    // Return the cell and output element which can be found *uniquely* in the notebook.\n",
       "    // Note - this is a bit hacky, but it is done because the \"notebook_saving.Notebook\"\n",
       "    // IPython event is triggered only after the cells have been serialised, which for\n",
       "    // our purposes (turning an active figure into a static one), is too late.\n",
       "    var cells = IPython.notebook.get_cells();\n",
       "    var ncells = cells.length;\n",
       "    for (var i=0; i<ncells; i++) {\n",
       "        var cell = cells[i];\n",
       "        if (cell.cell_type === 'code'){\n",
       "            for (var j=0; j<cell.output_area.outputs.length; j++) {\n",
       "                var data = cell.output_area.outputs[j];\n",
       "                if (data.data) {\n",
       "                    // IPython >= 3 moved mimebundle to data attribute of output\n",
       "                    data = data.data;\n",
       "                }\n",
       "                if (data['text/html'] == html_output) {\n",
       "                    return [cell, data, j];\n",
       "                }\n",
       "            }\n",
       "        }\n",
       "    }\n",
       "}\n",
       "\n",
       "// Register the function which deals with the matplotlib target/channel.\n",
       "// The kernel may be null if the page has been refreshed.\n",
       "if (IPython.notebook.kernel != null) {\n",
       "    IPython.notebook.kernel.comm_manager.register_target('matplotlib', mpl.mpl_figure_comm);\n",
       "}\n"
      ],
      "text/plain": [
       "<IPython.core.display.Javascript object>"
      ]
     },
     "metadata": {},
     "output_type": "display_data"
    },
    {
     "data": {
      "text/html": [
       "<img src=\"data:image/png;base64,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\">"
      ],
      "text/plain": [
       "<IPython.core.display.HTML object>"
      ]
     },
     "metadata": {},
     "output_type": "display_data"
    }
   ],
   "source": [
    "import matplotlib\n",
    "from mpl_toolkits.mplot3d import Axes3D\n",
    "%matplotlib notebook\n",
    "zero = [0] * 7\n",
    "\n",
    "ax = matplotlib.pyplot.figure().add_subplot(111, projection='3d')\n",
    "ax.scatter([0], [0],[0])\n",
    "\n",
    "poppy.l_arm_chain.plot(poppy.l_arm_chain.convert_to_ik_angles(poppy.l_arm_chain.joints_position), ax, target = (0.2, -0.2, 0.2))\n",
    "poppy.r_arm_chain.plot(poppy.r_arm_chain.convert_to_ik_angles(poppy.r_arm_chain.joints_position), ax)"
   ]
  },
  {
   "cell_type": "markdown",
   "metadata": {},
   "source": [
    "*Note the use of the **convert_to_ik_angles** method which converts from pypot representation (using degrees, motor offset and orientation) to IKPy internal representation.*"
   ]
  },
  {
   "cell_type": "markdown",
   "metadata": {},
   "source": [
    "# Inverse kinematics"
   ]
  },
  {
   "cell_type": "markdown",
   "metadata": {},
   "source": [
    "You can also directly ask the robot, more precisely one of its kynematic chain, to reach a specific cartesian position. The [IKPy](https://github.com/Phylliade/ikpy) library will use an optimization technique to try to find the configuration of the joints that best match your target position."
   ]
  },
  {
   "cell_type": "markdown",
   "metadata": {},
   "source": [
    "For instance, if you want to move the robot left hand in front of its head, you can ask it to go the position [0, -0.15, 0.35]:"
   ]
  },
  {
   "cell_type": "code",
   "execution_count": 3,
   "metadata": {
    "collapsed": false,
    "jupyter": {
     "outputs_hidden": false
    }
   },
   "outputs": [],
   "source": [
    "poppy.l_arm_chain.goto((0.0, -0.15, 0.35), 2., wait=True)"
   ]
  },
  {
   "cell_type": "markdown",
   "metadata": {},
   "source": [
    "## Drawing a circle\n",
    "This is particularly useful when you want to directly control your robot in the cartesian space. For instance, it become rather easy to make the hand of the robot follow a circle: (two times here!)"
   ]
  },
  {
   "cell_type": "code",
   "execution_count": 5,
   "metadata": {
    "collapsed": false,
    "jupyter": {
     "outputs_hidden": false
    }
   },
   "outputs": [],
   "source": [
    "import numpy as np\n",
    "r = .13\n",
    "x0, y0, z0 = (0.2, -0.2, 0.2)\n",
    "\n",
    "poppy.l_arm_chain.goto((x0, y0, z0), 1., wait=True)\n",
    "\n",
    "\n",
    "for alpha in np.arange(0, 4*np.pi, .08):\n",
    "    x = r * np.cos(alpha) + x0\n",
    "    z = r * np.sin(alpha) + z0\n",
    "    \n",
    "    poppy.l_arm_chain.goto((x, y0, z), 0.03, wait=True)"
   ]
  },
  {
   "cell_type": "markdown",
   "metadata": {},
   "source": [
    " The optimizer used by IKPy can be tweaked depending on what you want to do. This is beyond the scope of this tutorial, please refer directly to [IKPy documentation](https://github.com/Phylliade/ikpy) for details."
   ]
  },
  {
   "cell_type": "markdown",
   "metadata": {},
   "source": [
    "Finally, thanks to widgets you can also easily design a user interface for directly controlling your robot's hand!"
   ]
  },
  {
   "cell_type": "code",
   "execution_count": 6,
   "metadata": {
    "collapsed": false,
    "jupyter": {
     "outputs_hidden": false
    }
   },
   "outputs": [],
   "source": [
    "from ipywidgets import interact, FloatSlider\n",
    "\n",
    "c = poppy.l_arm_chain\n",
    "\n",
    "x, y, z = c.end_effector\n",
    "size = 0.3\n",
    "\n",
    "def goto(x, y, z):\n",
    "    c.goto((x, y, z), .1)\n",
    "    \n",
    "interact(goto, \n",
    "         x=FloatSlider(min=x-size, max=x+size, value=x, step=0.01), \n",
    "         y=FloatSlider(min=y-size, max=y+size, value=y, step=0.01), \n",
    "         z=FloatSlider(min=z-size, max=z+size, value=z, step=0.01))"
   ]
  },
  {
   "cell_type": "code",
   "execution_count": null,
   "metadata": {
    "collapsed": true,
    "jupyter": {
     "outputs_hidden": true
    }
   },
   "outputs": [],
   "source": []
  }
 ],
 "metadata": {
  "kernelspec": {
   "display_name": "Python 3",
   "language": "python",
   "name": "python3"
  },
  "language_info": {
   "codemirror_mode": {
    "name": "ipython",
    "version": 3
   },
   "file_extension": ".py",
   "mimetype": "text/x-python",
   "name": "python",
   "nbconvert_exporter": "python",
   "pygments_lexer": "ipython3",
   "version": "3.9.6"
  },
  "widgets": {
   "state": {
    "1c733e08b347482c80d2eb2179cec0a3": {
     "views": []
    },
    "1d5ab1a7f69d4375978deb75b21137fc": {
     "views": []
    },
    "7d7bc5cb8c6b4115b265e8aa1b9fe4b5": {
     "views": []
    },
    "b82349febf26432d8cd7314be92f9227": {
     "views": []
    },
    "bb07a016f22c4cbe99166f64dd074970": {
     "views": []
    },
    "c60e8b1cc5dc49e19046075a0eefdd68": {
     "views": []
    },
    "c82db6c946b14cb493fcd544d5731515": {
     "views": []
    },
    "dde6fa5d3f1c40e6a3db2659903b2e0c": {
     "views": []
    }
   },
   "version": "1.1.2"
  }
 },
 "nbformat": 4,
 "nbformat_minor": 4
}
